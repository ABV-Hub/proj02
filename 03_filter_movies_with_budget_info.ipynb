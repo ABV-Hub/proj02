{
 "cells": [
  {
   "cell_type": "markdown",
   "metadata": {},
   "source": [
    "### Read in all 19,355 movies (1977-2019): clean and keep all movies (4341) that have budget info\n",
    "***"
   ]
  },
  {
   "cell_type": "code",
   "execution_count": null,
   "metadata": {},
   "outputs": [],
   "source": [
    "# Import useful libraries:\n",
    "import numpy as np\n",
    "import pandas as pd"
   ]
  },
  {
   "cell_type": "code",
   "execution_count": null,
   "metadata": {},
   "outputs": [],
   "source": [
    "df_merged = pd.DataFrame()\n",
    "\n",
    "for year in range(1977,2020):\n",
    "    yr = str(year)\n",
    "    df = pd.read_csv(yr+'_movies_features_TEST.csv')\n",
    "    \n",
    "    # rename erroneous 1st column:\n",
    "    df.rename(columns={ df.columns[0]: 'Rank'}, inplace = True)\n",
    "\n",
    "    # Clean up Budget column:\n",
    "    df['Budget'] = df['Budget'].fillna('0')\n",
    "    df['Budget'] = [int(s.replace('$','').replace(',','')) for s in df['Budget']]\n",
    "    \n",
    "    temp = df.take(df.loc[df['Budget'] > 0].index)\n",
    "    #print('films with budget info,',yr,':',len(temp))\n",
    "    \n",
    "    df_merged = pd.concat([df_merged, temp.loc[:, temp.columns != 'Rank']], sort=False, ignore_index=True)\n",
    "\n",
    "#print(len(df_merged))\n",
    "#display(df_merged.tail())\n",
    "\n"
   ]
  },
  {
   "cell_type": "code",
   "execution_count": null,
   "metadata": {},
   "outputs": [],
   "source": [
    "# Add prefixes to URLs:\n",
    "df_merged['URL'] = ['https://www.'+url for url in df_merged['URL']]\n",
    "\n",
    "# write dataframe out to file for future use:\n",
    "df_merged.to_csv('00_budgeted_movies_list.csv', index = False)"
   ]
  },
  {
   "cell_type": "code",
   "execution_count": null,
   "metadata": {},
   "outputs": [],
   "source": []
  }
 ],
 "metadata": {
  "kernelspec": {
   "display_name": "Python 3",
   "language": "python",
   "name": "python3"
  },
  "language_info": {
   "codemirror_mode": {
    "name": "ipython",
    "version": 3
   },
   "file_extension": ".py",
   "mimetype": "text/x-python",
   "name": "python",
   "nbconvert_exporter": "python",
   "pygments_lexer": "ipython3",
   "version": "3.7.9"
  }
 },
 "nbformat": 4,
 "nbformat_minor": 4
}
