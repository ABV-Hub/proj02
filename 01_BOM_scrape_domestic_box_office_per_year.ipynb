{
 "cells": [
  {
   "cell_type": "markdown",
   "metadata": {},
   "source": [
    "### Program to scrape names of all movies and their corresponding info by year released:\n",
    "### (calendar gross, max theaters, total gross, release date, distribution studio, and url)"
   ]
  },
  {
   "cell_type": "code",
   "execution_count": 57,
   "metadata": {},
   "outputs": [],
   "source": [
    "import time\n",
    "import requests\n",
    "import pandas as pd\n",
    "from bs4 import BeautifulSoup as bs4"
   ]
  },
  {
   "cell_type": "code",
   "execution_count": 102,
   "metadata": {},
   "outputs": [],
   "source": [
    "# Loop over years:\n",
    "year_range = [*range(1977,2020)]\n",
    "\n",
    "for yr in range(year_range[0],year_range[-1]+1):\n",
    "    year = str(yr)\n",
    "    url  =('https://www.boxofficemojo.com/year/'+year+'/?grossesOption=calendarGrosses')\n",
    "#url  =('https://www.boxofficemojo.com/year/2019/?grossesOption=calendarGrosses')\n",
    "    html = requests.get(url)\n",
    "    soup = bs4(html.text, 'lxml')\n",
    "    \n",
    "    table_data = [x.text for x in soup.select('tr td')[0:15000]]\n",
    "\n",
    "    # removes 'false' list items: *NOTE: This does not work for years 2002 and 2018*\n",
    "    # 2002 and 2018 contain 'true' entries that need to be removed too\n",
    "    temp = list(filter(lambda x: x!= 'false',table_data))\n",
    "    clean_table = list(filter(lambda x: x!= 'true',temp))\n",
    "\n",
    "    nmax  = len(clean_table)\n",
    "    ncols = 10\n",
    "\n",
    "# Create dataframe columns from annual movie data:\n",
    "    df = pd.DataFrame()\n",
    "    df[0]=clean_table[0:nmax:ncols]\n",
    "    df[1]=clean_table[1:nmax:ncols]\n",
    "    df[2]=clean_table[5:nmax:ncols]\n",
    "    df[3]=clean_table[6:nmax:ncols]\n",
    "    df[4]=clean_table[7:nmax:ncols]\n",
    "    df[5]=clean_table[8:nmax:ncols]\n",
    "    df[6]=clean_table[9:nmax:ncols]\n",
    "        \n",
    "    df.columns=[str(year_range[0]) + ' Rank',\n",
    "                'Release',\n",
    "                'Calendar Gross',\n",
    "                'Max Theaters',\n",
    "                'Total Gross',\n",
    "                'Release Date',\n",
    "                'Distributor']\n",
    "    \n",
    "    #=================================\n",
    "    # Grab the URL of each movie in the list:\n",
    "    newlink=[]\n",
    "    for a in soup.find_all('a', href=True):\n",
    "        if a['href'].startswith('/release/rl'):\n",
    "            l = a['href'].split('?')\n",
    "            l = 'boxofficemojo.com'+l[0]\n",
    "            newlink.append(l)\n",
    "    \n",
    "    df['URL'] = newlink\n",
    "    \n",
    "    # Write dataframe to .csv file:\n",
    "    df.to_csv(year+'_domestic_releases.csv', index = False)\n",
    "\n",
    "    #=================================\n",
    "    #wait 3 seconds between iterations\n",
    "    time.sleep(3)"
   ]
  },
  {
   "cell_type": "code",
   "execution_count": null,
   "metadata": {},
   "outputs": [],
   "source": []
  }
 ],
 "metadata": {
  "kernelspec": {
   "display_name": "Python 3",
   "language": "python",
   "name": "python3"
  },
  "language_info": {
   "codemirror_mode": {
    "name": "ipython",
    "version": 3
   },
   "file_extension": ".py",
   "mimetype": "text/x-python",
   "name": "python",
   "nbconvert_exporter": "python",
   "pygments_lexer": "ipython3",
   "version": "3.7.9"
  }
 },
 "nbformat": 4,
 "nbformat_minor": 4
}
