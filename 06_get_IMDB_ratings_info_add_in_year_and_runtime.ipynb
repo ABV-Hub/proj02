{
 "cells": [
  {
   "cell_type": "code",
   "execution_count": 1,
   "metadata": {},
   "outputs": [],
   "source": [
    "# IMDB ratings file: title_ratings.tsv \n",
    "# (Publicly available at: https://www.imdb.com/interfaces/)\n",
    "import pandas as pd"
   ]
  },
  {
   "cell_type": "code",
   "execution_count": 15,
   "metadata": {},
   "outputs": [],
   "source": [
    "# Read in the IMDB ratings file:\n",
    "df_imdb_basics = pd.read_csv('title_basics.tsv', sep='\\t', dtype='str') # For release year and runtime in minutes"
   ]
  },
  {
   "cell_type": "code",
   "execution_count": 16,
   "metadata": {},
   "outputs": [],
   "source": [
    "df_movie_list = pd.read_csv('01_budgeted_movie_list_with_IMDB_links.csv')"
   ]
  },
  {
   "cell_type": "code",
   "execution_count": 17,
   "metadata": {},
   "outputs": [],
   "source": [
    "# Remove erroneous, non-numeric characters:\n",
    "df_imdb_basics['startYear'] = df_imdb_basics['startYear'].str.extract('(\\d+)', expand=False)\n",
    "df_imdb_basics['runtimeMinutes'] = df_imdb_basics['runtimeMinutes'].str.extract('(\\d+)', expand=False)\n",
    "\n",
    "df_imdb_basics = df_imdb_basics.dropna(subset=['startYear'])\n",
    "df_imdb_basics = df_imdb_basics.dropna(subset=['runtimeMinutes'])\n",
    "\n",
    "# Re-cast into more appropriate data types:\n",
    "df_imdb_basics['startYear']      = df_imdb_basics['startYear'].astype(int)\n",
    "df_imdb_basics['runtimeMinutes'] = df_imdb_basics['runtimeMinutes'].astype(int)"
   ]
  },
  {
   "cell_type": "code",
   "execution_count": 18,
   "metadata": {},
   "outputs": [
    {
     "name": "stdout",
     "output_type": "stream",
     "text": [
      "2026121\n"
     ]
    }
   ],
   "source": [
    "print(len(df_imdb_basics))"
   ]
  },
  {
   "cell_type": "code",
   "execution_count": 19,
   "metadata": {},
   "outputs": [],
   "source": [
    "df1 = df_movie_list['IMDB_ID']\n",
    "df2 = df_imdb_basics['tconst']\n",
    "df1=list(df1)\n",
    "df2=list(df2)\n",
    "\n",
    "#special case\n",
    "df2.append('tt0046183')\n",
    "df2.append('tt0029583')"
   ]
  },
  {
   "cell_type": "code",
   "execution_count": 20,
   "metadata": {},
   "outputs": [
    {
     "name": "stdout",
     "output_type": "stream",
     "text": [
      "4341\n"
     ]
    }
   ],
   "source": [
    "# KEEP, Do not delete\n",
    "# Get the indexes in df_imdb_ratings where they match the ones from df_movie_list:\n",
    "res = [df2.index(i) for i in df1]\n",
    "print(len(res))"
   ]
  },
  {
   "cell_type": "code",
   "execution_count": 25,
   "metadata": {
    "scrolled": false
   },
   "outputs": [],
   "source": [
    "year = [0.0]*len(df_movie_list)\n",
    "mins = [0]*len(df_movie_list)\n",
    "\n",
    "year = [x for ind, x in enumerate(df_imdb_basics['startYear'])]"
   ]
  },
  {
   "cell_type": "code",
   "execution_count": 26,
   "metadata": {
    "scrolled": true
   },
   "outputs": [],
   "source": [
    "df3 = df_imdb_basics['startYear']\n",
    "df4 = df_imdb_basics['runtimeMinutes']"
   ]
  },
  {
   "cell_type": "code",
   "execution_count": 32,
   "metadata": {},
   "outputs": [
    {
     "data": {
      "text/plain": [
       "2026121"
      ]
     },
     "execution_count": 32,
     "metadata": {},
     "output_type": "execute_result"
    }
   ],
   "source": [
    "len(df3)"
   ]
  },
  {
   "cell_type": "code",
   "execution_count": null,
   "metadata": {},
   "outputs": [],
   "source": [
    "list_years = [df3[r] for r in res]\n",
    "list_mins  = [df4[v] for v in res]"
   ]
  },
  {
   "cell_type": "code",
   "execution_count": null,
   "metadata": {},
   "outputs": [],
   "source": [
    "df_movie_list['Year'] = list_years\n",
    "df_movie_list['Runtime Mins']  = list_mins"
   ]
  },
  {
   "cell_type": "code",
   "execution_count": null,
   "metadata": {},
   "outputs": [],
   "source": [
    "#df_movie_list.head()"
   ]
  },
  {
   "cell_type": "code",
   "execution_count": null,
   "metadata": {},
   "outputs": [],
   "source": [
    "df_movie_list.to_csv('02_budgeted_movies_list_with_ratings.csv', index=False)"
   ]
  }
 ],
 "metadata": {
  "kernelspec": {
   "display_name": "Python 3",
   "language": "python",
   "name": "python3"
  },
  "language_info": {
   "codemirror_mode": {
    "name": "ipython",
    "version": 3
   },
   "file_extension": ".py",
   "mimetype": "text/x-python",
   "name": "python",
   "nbconvert_exporter": "python",
   "pygments_lexer": "ipython3",
   "version": "3.7.9"
  }
 },
 "nbformat": 4,
 "nbformat_minor": 4
}
